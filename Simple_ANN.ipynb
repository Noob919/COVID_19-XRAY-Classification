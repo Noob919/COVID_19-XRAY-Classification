{
  "nbformat": 4,
  "nbformat_minor": 0,
  "metadata": {
    "colab": {
      "name": "Untitled3.ipynb",
      "provenance": [],
      "mount_file_id": "1kLcyocAuflIP2WEneRnFyQajCbdEahwO",
      "authorship_tag": "ABX9TyP8+4gAImZjrkdbb52x32/O",
      "include_colab_link": true
    },
    "kernelspec": {
      "name": "python3",
      "display_name": "Python 3"
    },
    "language_info": {
      "name": "python"
    },
    "accelerator": "GPU"
  },
  "cells": [
    {
      "cell_type": "markdown",
      "metadata": {
        "id": "view-in-github",
        "colab_type": "text"
      },
      "source": [
        "<a href=\"https://colab.research.google.com/github/Noob919/COVID_19-XRAY-Classification/blob/main/Simple_ANN.ipynb\" target=\"_parent\"><img src=\"https://colab.research.google.com/assets/colab-badge.svg\" alt=\"Open In Colab\"/></a>"
      ]
    },
    {
      "cell_type": "code",
      "execution_count": 1,
      "metadata": {
        "id": "3wHXzOZsuEdE"
      },
      "outputs": [],
      "source": [
        "import numpy as np\n",
        "import pandas as pd \n",
        "import matplotlib.pyplot as plt\n",
        "import seaborn as sns\n",
        "import tensorflow as tf\n",
        "from tensorflow import keras\n",
        "from tensorflow.keras import layers\n",
        "from tensorflow.keras.layers import Dense,Flatten\n",
        "from tensorflow.keras.models import Sequential\n",
        "from tensorflow.keras.optimizers import Adam\n",
        "from keras.preprocessing.image import img_to_array\n",
        "# from tensorflow.keras.applications.resnet50 import preprocess_input\n",
        "# from tensorflow.keras.applications.resnet50 import ResNet50, decode_predictions\n",
        "import os\n",
        "from PIL import Image"
      ]
    },
    {
      "cell_type": "code",
      "source": [
        "test_path_pneumonia = \"/content/drive/MyDrive/chest_xray/test/PNEUMONIA\"\n",
        "test_path_normal = \"/content/drive/MyDrive/chest_xray/test/NORMAL\"\n",
        "\n",
        "train_path_pneumonia = \"/content/drive/MyDrive/chest_xray/train/PNEUMONIA\"\n",
        "train_path_normal = \"/content/drive/MyDrive/chest_xray/train/NORMAL\"\n",
        "\n",
        "val_path_pneumonia = \"/content/drive/MyDrive/chest_xray/val/PNEUMONIA\"\n",
        "val_path_normal = \"/content/drive/MyDrive/chest_xray/val/NORMAL\""
      ],
      "metadata": {
        "id": "N2MJDEvWuMkU"
      },
      "execution_count": 2,
      "outputs": []
    },
    {
      "cell_type": "code",
      "source": [
        "data_dir_test = \"/content/drive/MyDrive/chest_xray/test\"\n",
        "img_height,img_width=128,128\n",
        "batch_size=32\n",
        "test_ds = tf.keras.preprocessing.image_dataset_from_directory(\n",
        "  data_dir_test,\n",
        "  seed=42,\n",
        "  color_mode = 'grayscale',\n",
        "  image_size=(img_height, img_width),\n",
        "  batch_size=batch_size)"
      ],
      "metadata": {
        "colab": {
          "base_uri": "https://localhost:8080/"
        },
        "id": "SvBN1yS3uTRc",
        "outputId": "a704e8c5-5653-4ba3-a153-36eade0761f9"
      },
      "execution_count": 20,
      "outputs": [
        {
          "output_type": "stream",
          "name": "stdout",
          "text": [
            "Found 624 files belonging to 2 classes.\n"
          ]
        }
      ]
    },
    {
      "cell_type": "code",
      "source": [
        "data_dir_train = \"/content/drive/MyDrive/chest_xray/train\"\n",
        "img_height,img_width=128,128\n",
        "batch_size=32\n",
        "train_ds = tf.keras.preprocessing.image_dataset_from_directory(\n",
        "  data_dir_train,\n",
        "  seed=42,\n",
        "  color_mode = 'grayscale',\n",
        "  image_size=(img_height, img_width),\n",
        "  batch_size=batch_size)"
      ],
      "metadata": {
        "colab": {
          "base_uri": "https://localhost:8080/"
        },
        "id": "EuX_4gc6vkAd",
        "outputId": "36b8dd34-3972-4685-aecf-6b07b6089f1b"
      },
      "execution_count": 21,
      "outputs": [
        {
          "output_type": "stream",
          "name": "stdout",
          "text": [
            "Found 5216 files belonging to 2 classes.\n"
          ]
        }
      ]
    },
    {
      "cell_type": "code",
      "source": [
        "model = keras.Sequential([\n",
        "    keras.layers.Flatten(),\n",
        "    keras.layers.Dense(512, activation='relu'),\n",
        "    keras.layers.Dense(128, activation='relu'),\n",
        "    keras.layers.Dense(1,activation='softmax')\n",
        "    ])"
      ],
      "metadata": {
        "id": "12qIKnolwrdb"
      },
      "execution_count": 25,
      "outputs": []
    },
    {
      "cell_type": "code",
      "source": [
        "model.compile(optimizer=\"adam\",loss=\"BinaryCrossentropy\", metrics=[\"accuracy\"])"
      ],
      "metadata": {
        "id": "qH06RjlpxMYZ"
      },
      "execution_count": 26,
      "outputs": []
    },
    {
      "cell_type": "code",
      "source": [
        "model.fit(train_ds, validation_data = test_ds,batch_size=32,epochs=2)"
      ],
      "metadata": {
        "colab": {
          "base_uri": "https://localhost:8080/"
        },
        "id": "1RP1n5slx-hI",
        "outputId": "52dbf500-6581-476c-8f2e-b8afcb38d57e"
      },
      "execution_count": 27,
      "outputs": [
        {
          "output_type": "stream",
          "name": "stdout",
          "text": [
            "Epoch 1/2\n",
            "163/163 [==============================] - 457s 3s/step - loss: 148.5822 - accuracy: 0.7429 - val_loss: 18.2849 - val_accuracy: 0.6250\n",
            "Epoch 2/2\n",
            "163/163 [==============================] - 33s 194ms/step - loss: 27.5219 - accuracy: 0.7429 - val_loss: 31.0028 - val_accuracy: 0.6250\n"
          ]
        },
        {
          "output_type": "execute_result",
          "data": {
            "text/plain": [
              "<keras.callbacks.History at 0x7f05e6496b50>"
            ]
          },
          "metadata": {},
          "execution_count": 27
        }
      ]
    },
    {
      "cell_type": "code",
      "source": [
        "values = pd.DataFrame(model.history.history)"
      ],
      "metadata": {
        "id": "wKdvCtZQyaui"
      },
      "execution_count": 29,
      "outputs": []
    },
    {
      "cell_type": "code",
      "source": [
        "fig1 = plt.gcf()\n",
        "plt.plot(values['accuracy'])\n",
        "plt.plot(values['val_accuracy'])\n",
        "plt.axis(ymin=0.4,ymax=1)\n",
        "plt.grid()\n",
        "plt.ylim(0,1)\n",
        "plt.title('Model Accuracy')\n",
        "plt.ylabel('Accuracy')\n",
        "plt.xlabel('Epochs')\n",
        "plt.legend(['train', 'validation'])\n",
        "plt.show()"
      ],
      "metadata": {
        "colab": {
          "base_uri": "https://localhost:8080/",
          "height": 295
        },
        "id": "Pq6cSqHA50E3",
        "outputId": "a63ab226-3fbf-48dc-980a-6ff4c5106d9b"
      },
      "execution_count": 30,
      "outputs": [
        {
          "output_type": "display_data",
          "data": {
            "text/plain": [
              "<Figure size 432x288 with 1 Axes>"
            ],
            "image/png": "[encoded data removed]"
          },
          "metadata": {
            "needs_background": "light"
          }
        }
      ]
    },
    {
      "cell_type": "code",
      "source": [
        "fig1 = plt.gcf()\n",
        "plt.plot(values['loss'])\n",
        "plt.plot(values['val_loss'])\n",
        "plt.grid()\n",
        "plt.title('Model Accuracy')\n",
        "plt.ylabel('Accuracy')\n",
        "plt.xlabel('Epochs')\n",
        "plt.legend(['train', 'validation'])\n",
        "plt.show()"
      ],
      "metadata": {
        "colab": {
          "base_uri": "https://localhost:8080/",
          "height": 295
        },
        "id": "slISc5ug552f",
        "outputId": "e08d8ee6-5fdb-4d0a-95cc-dd6112979854"
      },
      "execution_count": 33,
      "outputs": [
        {
          "output_type": "display_data",
          "data": {
            "text/plain": [
              "<Figure size 432x288 with 1 Axes>"
            ],
            "image/png": "[encoded data removed]"
          },
          "metadata": {
            "needs_background": "light"
          }
        }
      ]
    },
    {
      "cell_type": "code",
      "source": [
        ""
      ],
      "metadata": {
        "id": "iHWND1My58rb"
      },
      "execution_count": null,
      "outputs": []
    }
  ]
}